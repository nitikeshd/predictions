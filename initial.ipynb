
{
  "nbformat": 4,
  "nbformat_minor": 0,
  "metadata": {
    "colab": {
      "name": "Welcome To Colaboratory",
      "provenance": [
        
      ],
      "collapsed_sections": [
        
      ],
      "include_colab_link": true
    },
    "kernelspec": {
      "display_name": "Python 3",
      "name": "python3"
    },
    "accelerator": "GPU"
  },
  "cells": [
    {
      "cell_type": "markdown",
      "metadata": {
        "id": "view-in-github",
        "colab_type": "text"
      },
      "source": [
        "<a href=\"https://colab.research.google.com/gist/nitikeshd/cdd75f582d71f1381cf691f6816a0dae/welcome-to-colaboratory.ipynb\" target=\"_parent\"><img src=\"https://colab.research.google.com/assets/colab-badge.svg\" alt=\"Open In Colab\"/></a>"
      ]
    },
    {
      "cell_type": "code",
      "metadata": {
        "id": "cW5On50ixPze"
      },
      "source": [
        "#Importing all Modules Here\n",
        "import pandas\n",
        "from sklearn.ensemble import RandomForestClassifier\n",
        "import statsmodels.api as sm \n",
        "from sklearn.cluster import KMeans\n",
        "#!pip install fbprophet\n",
        "import fbprophet"
      ],
      "execution_count": 3,
      "outputs": [
        
      ]
    },
    {
      "cell_type": "code",
      "metadata": {
        "id": "ngQVQt3lxa0N"
      },
      "source": [
        "'''\n",
        "### Author: Nitikesh Pattanayak\n",
        "### Date: 06-12-2021\n",
        "'''\n",
        "class Predictions:\n",
        "  def __init__(self, filePath):\n",
        "    self.path = filePath\n",
        "    self.pd = pandas.read_csv(self.path)\n",
        "  def execute(self):\n",
        "    self.randomForest()\n",
        "    #self.generalizedLinearModel()\n",
        "    #self.kmeans()\n",
        "    #self.prophet()\n",
        "    #self.visualize()\n",
        "\n",
        "  def randomForest(self):\n",
        "    pass\n",
        "\n",
        "  def generalizedLinearModel(self):\n",
        "    pass\n",
        "\n",
        "  def kmeans(self):\n",
        "    pass\n",
        "\n",
        "  def prophet(self):\n",
        "    pass\n",
        "  \n",
        "  def visualize(self):\n",
        "    pass"
      ],
      "execution_count": 5,
      "outputs": [
        
      ]
    },
    {
      "cell_type": "code",
      "metadata": {
        "id": "H4HUbttrxhKR"
      },
      "source": [
        "#BTC Price Prediction\n",
        "prd = Predictions(\"btc_data.csv\")\n",
        "prd.execute()"
      ],
      "execution_count": null,
      "outputs": [
        
      ]
    }
  ]
}
